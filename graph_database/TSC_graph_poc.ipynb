{
 "cells": [
  {
   "cell_type": "markdown",
   "metadata": {},
   "source": [
    "# Blog 4: Data as a graph network\n",
    "Data is always becoming more complex and interconnected. Since 1970s the most common type of databse one had to rely on was a relational one. This is where tables are highly structured split into rows/columns and quite often the data is normalised.\n",
    "\n",
    "Graph networks are a mathmatical concept where by pairwise relations between objects are expressed in the form of nodes (vertices) and edges.\n",
    "\n",
    "The classic example of data constructed in this format is social media data. Users are interconnected with hundreds of properties and relashionships. To model this in a relational setting we'd need lots of intermediate tables which describe the many to many relashionships i.e. I'm friends with Alex and Paul but only Paul is friends with me. When we are talking about large datasets querying them becomes resource expensive and time consuming. In an age where apps need to return answers in milliseconds, making the user wait is a definite no no.\n",
    "\n",
    "As shown in the diagram belowGraph databases are a form of NOSQL (not only sql) but sit in their own category away from say other database technology like Cassandra, MongoDB or Reddis (all these other technologies are useful for storing large amounts of unstructured data).\n",
    "\n",
    "Diagram is taken from chapter 6 of Introducing Data Science - Big Data, Machine Learning and more, using Python tools (2016) by Davy Cielen\n",
    "Arno D. B. Meysman\n",
    "Mohamed Ali\n",
    "\n"
   ]
  },
  {
   "cell_type": "markdown",
   "metadata": {},
   "source": [
    "![alt text](NOSQL.PNG \"Graph_POC\")"
   ]
  },
  {
   "cell_type": "markdown",
   "metadata": {},
   "source": [
    "The graph database software I'll be using is called Neo4j. You can learn more about the software and graph databases in general @https://neo4j.com/\n",
    "\n",
    "\n",
    "The script below uses a python client library (py2neo) for Neo4j to connect to my graph instance and setup some sample \"MOCK\" data. Neo4j uses it's own queryling language called Cypher. \"Cypher is a declarative, SQL-inspired language for describing patterns in graphs visually using an ascii-art syntax.\".\n",
    "\n",
    "It's very similar to SQL but instead of SELECT you use MATCH and MERGE to find patterns in the graph structure. \n",
    "\n",
    "I am using the python module for the Neo4j REST Api to authenicate and then perform inserts and queries on a graph.\n",
    "You can view the GUI at localhost:7474/browser."
   ]
  },
  {
   "cell_type": "code",
   "execution_count": 12,
   "metadata": {},
   "outputs": [],
   "source": [
    "from neo4jrestclient.client import GraphDatabase\n",
    " \n",
    "db = GraphDatabase(\"http://localhost:7474\", username=\"neo4j\", password=\"someneopassword\")\n",
    " "
   ]
  },
  {
   "cell_type": "code",
   "execution_count": 19,
   "metadata": {},
   "outputs": [
    {
     "name": "stdout",
     "output_type": "stream",
     "text": [
      "{'data': [], 'columns': []}\n"
     ]
    },
    {
     "data": {
      "text/plain": [
       "<Neo4j Relationship: http://localhost:7474/db/data/relationship/52>"
      ]
     },
     "execution_count": 19,
     "metadata": {},
     "output_type": "execute_result"
    }
   ],
   "source": [
    "query1 = \"\"\"MATCH (n) DETACH DELETE n\"\"\"\n",
    "\n",
    "print(db.query(query1).get_response())\n",
    "\n",
    "\n",
    "people = db.labels.create(\"Person\")\n",
    "\n",
    "Sam = db.nodes.create(name=\"Sam\", age=26)\n",
    "Alex = db.nodes.create(name=\"Alex\", age=34)\n",
    "Mark = db.nodes.create(name=\"Mark\", age=26)\n",
    "James = db.nodes.create(name=\"James\", age=43)\n",
    "Billy = db.nodes.create(name=\"Billy\", age=36)\n",
    "\n",
    "\n",
    "people.add(Sam, Alex, Mark, James)\n",
    "\n",
    "\n",
    "account = db.labels.create(\"Account\")\n",
    "account1=db.nodes.create(account_id=\"1234\", type=\"Basic Trading Account\")\n",
    "account2=db.nodes.create(account_id=\"2234\", type=\"ISA\")\n",
    "account3=db.nodes.create(account_id=\"3234\", type=\"ISA\")\n",
    "account4=db.nodes.create(account_id=\"4234\", type=\"ISA\")\n",
    "account5=db.nodes.create(account_id=\"4234\", type=\"Basic Trading Account\")\n",
    "\n",
    "account.add(account1,account2,account3,account4)\n",
    "\n",
    "\n",
    "ic = db.labels.create(\"Investment Club\")\n",
    "ic1=db.nodes.create(name=\"London's Best Investors\")\n",
    "\n",
    "ic.add(ic1)\n",
    "\n",
    "oeic = db.labels.create(\"OEIC\")\n",
    "oeic1=db.nodes.create(name=\"Global Tech Acc\")\n",
    "oeic2=db.nodes.create(name=\"EM Small Cap Acc\")\n",
    "\n",
    "oeic.add(oeic1,oeic2)\n",
    "\n",
    "equity=db.labels.create(\"Equity\")\n",
    "equity1=db.nodes.create(name=\"Lloyds plc\")\n",
    "\n",
    "equity.add(equity1)\n",
    "\n",
    "Sam.relationships.create(\"accountHolder\", account1, date_opened=\"2016-01-12\")\n",
    "Alex.relationships.create(\"accountHolder\", account2, date_opened=\"2016-01-15\")\n",
    "Mark.relationships.create(\"accountHolder\", account3, date_opened=\"2016-04-15\")\n",
    "James.relationships.create(\"accountHolder\", account4, date_opened=\"2016-01-19\")\n",
    "Billy.relationships.create(\"accountHolder\", account5, date_opened=\"2016-01-19\")\n",
    "account1.relationships.create(\"holds\", oeic1, units=10)\n",
    "account2.relationships.create(\"holds\", oeic2, units=20)\n",
    "account3.relationships.create(\"holds\", oeic1, units=5)\n",
    "Sam.relationships.create(\"clubMemeber\",ic1, date_joined=\"2016-04-23\")\n",
    "Alex.relationships.create(\"clubMemeber\",ic1, date_joined=\"2016-04-23\")\n",
    "account2.relationships.create(\"holds\", equity1, units=5)\n",
    "ic1.relationships.create(\"holds\", equity1, units=5)\n",
    "\n"
   ]
  },
  {
   "cell_type": "markdown",
   "metadata": {},
   "source": [
    "## What does it look like?\n",
    "\n",
    "Below is the picture taken from the Neo4j browser. It consists of...\n",
    "\n",
    "5 Customers.\n",
    "5 Accounts.\n",
    "1 Investment Club.\n",
    "3 Investments.\n",
    "\n",
    "How good does that look! If we'd of created this schema in an realational model the potential tables we'd need would be...\n",
    "customers,accounts,clubs,members,equity,OEICS,orders,holdings.\n",
    "What about polymorphic associations? i.e. we'd have to have tables to hold the many to many or perhaps multi value records if you are old school.\n",
    "\n",
    "We can see that James, Sam and Alex are part of the Super Investment club who own account 5234 and hold 41 units of Lloyds PLC. We can see Sam owns 2 accounts, 1 holding Global Tech and and the other Lloyds plc, he's 23 years old and was acquired via the organic marketing channel.\n"
   ]
  },
  {
   "cell_type": "markdown",
   "metadata": {},
   "source": [
    "![alt text](graph.png \"Graph_POC\")"
   ]
  },
  {
   "cell_type": "markdown",
   "metadata": {},
   "source": [
    "## Querying the network\n",
    "\n",
    "I know this is a small scale concept but lets find out how many units in total our customers hold in Lloyds plc."
   ]
  },
  {
   "cell_type": "code",
   "execution_count": 29,
   "metadata": {},
   "outputs": [
    {
     "name": "stdout",
     "output_type": "stream",
     "text": [
      "{'data': [[10]], 'columns': ['units_held']}\n"
     ]
    }
   ],
   "source": [
    "query2=(\"MATCH ()-[r:holds]->(p:Equity) WHERE p.name='Lloyds plc'  RETURN sum(r.units) as units_held\")\n",
    "\n",
    "print(db.query(query2).get_response())"
   ]
  },
  {
   "cell_type": "markdown",
   "metadata": {},
   "source": [
    "Let's go one step further and find out what accounts own Lloyds plc and what the account type it is."
   ]
  },
  {
   "cell_type": "code",
   "execution_count": 33,
   "metadata": {},
   "outputs": [
    {
     "name": "stdout",
     "output_type": "stream",
     "text": [
      "{'data': [['2234', 'ISA', 5]], 'columns': ['account_id', 'account_type', 'units_held']}\n"
     ]
    }
   ],
   "source": [
    "query3=\"MATCH (a:Account)-[r:holds]->(p:Equity) WHERE p.name='Lloyds plc'  RETURN  a.account_id as account_id,a.type as account_type,sum(r.units) as units_held\"\n",
    "\n",
    "print(db.query(query3).get_response())"
   ]
  },
  {
   "cell_type": "markdown",
   "metadata": {},
   "source": [
    "For the RDBS model of this schema the same SQL query might look like assuming we have a table called orders.\n",
    "\n",
    "SELECT a.ACC_ID, a.type, sum(o.units)\n",
    "FROM accounts\n",
    "LEFT JOIN orders AS o ON (a.ACC_ID = o.ACC_ID)\n",
    "LEFT JOIN investments as i ON(o.inv_id=i.inv_id)\n",
    "WHERE in.name=\"Lloyds plc\"\n",
    "Group by a.Acc_ID, a.type"
   ]
  },
  {
   "cell_type": "markdown",
   "metadata": {},
   "source": [
    "## Proof of concept\n",
    "\n",
    "The aim of this was to show you how a stock brokers data could be modelled as a graph network. Infact some people argue any data problem in the world can be modelled as a graph network.\n",
    "\n",
    "I hope you can see it provides a way of having a very flexible schema (structure) and makes lookups much quicker!\n"
   ]
  }
 ],
 "metadata": {
  "anaconda-cloud": {},
  "kernelspec": {
   "display_name": "Python 3",
   "language": "python",
   "name": "python3"
  },
  "language_info": {
   "codemirror_mode": {
    "name": "ipython",
    "version": 3
   },
   "file_extension": ".py",
   "mimetype": "text/x-python",
   "name": "python",
   "nbconvert_exporter": "python",
   "pygments_lexer": "ipython3",
   "version": "3.5.2"
  }
 },
 "nbformat": 4,
 "nbformat_minor": 1
}
