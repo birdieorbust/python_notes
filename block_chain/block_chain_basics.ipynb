{
 "cells": [
  {
   "cell_type": "markdown",
   "metadata": {},
   "source": [
    "# Basics of blockchain\n",
    "\n",
    "In this notebook I set out to create a simple blockchain for a basic payment system. I've followed these notes [here](https://github.com/emunsing/tutorials/blob/master/BuildYourOwnBlockchain.ipynb)\n",
    "\n",
    "Alex and Sam are the two parties involved in transactions.\n",
    "\n",
    "First I make a hashing function that will take a message string and pass it through the sha256 algorithm. This will return the utf encoded version of the hash. hexdigest returns the digest of the string.\n",
    "\n",
    "Hashing is great because it takes plain text and outputs a fixed length string which is encrypted. This is one way and changing even just 1 character of the message string will alter the whole hash output. This is the Crypto aspect of the crypto currency."
   ]
  },
  {
   "cell_type": "code",
   "execution_count": 3,
   "metadata": {},
   "outputs": [],
   "source": [
    "import hashlib, json, sys\n",
    "\n",
    "def hashmsg(msg=\"\"):\n",
    "    if type(msg)!=str:\n",
    "        msg = json.dumps(msg,sort_keys=True)\n",
    "        print(msg)\n",
    "    if sys.version_info.major==2:\n",
    "        return unicode(hashlib.sha256(msg).hexdigest(),'utf-8')\n",
    "    else:\n",
    "        return hashlib.sha256(str(msg).encode('utf-8')).hexdigest()\n"
   ]
  },
  {
   "cell_type": "code",
   "execution_count": 4,
   "metadata": {},
   "outputs": [
    {
     "data": {
      "text/plain": [
       "'13b461d73e663cc26b0f76cd85cd8b6e070d62f7bb5f8c7d565c7d6f2d935bcb'"
      ]
     },
     "execution_count": 4,
     "metadata": {},
     "output_type": "execute_result"
    }
   ],
   "source": [
    "hashmsg(\"THIS IS A SECRET MESSAGE NO ONE WILL EVER EVER CRACK\")\n",
    "\n",
    "hashmsg(\"Sam pays alex 2 tokens\")"
   ]
  },
  {
   "cell_type": "markdown",
   "metadata": {},
   "source": [
    "Now we need a function to make some random transactions. We use random.getrandbits to get a random long int with k bits.  A bit is simply a 0 or a 1. We multiply by 2 and take away -1 so the number is either 1 or -1. Negative represents a withdrawal and positive reprsents a deposit."
   ]
  },
  {
   "cell_type": "code",
   "execution_count": 23,
   "metadata": {},
   "outputs": [
    {
     "data": {
      "text/plain": [
       "{'Alex': -2, 'Sam': 2}"
      ]
     },
     "execution_count": 23,
     "metadata": {},
     "output_type": "execute_result"
    }
   ],
   "source": [
    "import random\n",
    "random.seed(0)\n",
    "\n",
    "def makeTransaction(maxValue=3):\n",
    "    sign=int(random.getrandbits(1))*2-1\n",
    "    #print(sign)\n",
    "    amount=random.randint(1,maxValue)\n",
    "    samPays= sign*amount\n",
    "    alexPays=-sign*amount\n",
    "    \n",
    "    return {u'Alex':alexPays,u'Sam': samPays}\n",
    "    \n",
    "\n",
    "\n",
    "makeTransaction()"
   ]
  },
  {
   "cell_type": "markdown",
   "metadata": {},
   "source": [
    "Let's make 30 transactions using the function above."
   ]
  },
  {
   "cell_type": "code",
   "execution_count": 29,
   "metadata": {},
   "outputs": [
    {
     "name": "stdout",
     "output_type": "stream",
     "text": [
      "[{'Alex': -1, 'Sam': 1}, {'Alex': 3, 'Sam': -3}, {'Alex': -3, 'Sam': 3}, {'Alex': 2, 'Sam': -2}, {'Alex': 1, 'Sam': -1}, {'Alex': -1, 'Sam': 1}, {'Alex': -1, 'Sam': 1}, {'Alex': -1, 'Sam': 1}, {'Alex': -1, 'Sam': 1}, {'Alex': -3, 'Sam': 3}, {'Alex': -3, 'Sam': 3}, {'Alex': -2, 'Sam': 2}, {'Alex': -3, 'Sam': 3}, {'Alex': -2, 'Sam': 2}, {'Alex': -1, 'Sam': 1}, {'Alex': -1, 'Sam': 1}, {'Alex': -3, 'Sam': 3}, {'Alex': -2, 'Sam': 2}, {'Alex': -2, 'Sam': 2}, {'Alex': 2, 'Sam': -2}, {'Alex': -3, 'Sam': 3}, {'Alex': -3, 'Sam': 3}, {'Alex': -2, 'Sam': 2}, {'Alex': 2, 'Sam': -2}, {'Alex': -1, 'Sam': 1}, {'Alex': 3, 'Sam': -3}, {'Alex': -2, 'Sam': 2}, {'Alex': -1, 'Sam': 1}, {'Alex': 1, 'Sam': -1}, {'Alex': -2, 'Sam': 2}]\n"
     ]
    }
   ],
   "source": [
    "tnxBuffer=[makeTransaction() for i in range(30)]\n",
    "print(tnxBuffer)"
   ]
  },
  {
   "cell_type": "markdown",
   "metadata": {},
   "source": [
    "Above are all our transactions. We will take the first k transactions from the buffer above and chunk them into blocks.\n",
    "\n",
    "However before allowing transactions into the block we must validate them in some way and make sure they haven't been forged. We'll allow for some simpe rules. In Ethereum, the validation function checks that the smart contracts were faithfully executed and respect gas limits.\n",
    "\n",
    "1. The sum of deposits and withdrawals must be equal. We can't have tokens created or destroyed.\n",
    "2. Alex or Sam must have sufficient funds to cover withdrawals. Money doesn't grow on trees!\n",
    "\n",
    "The next function we define will compute the current state based on a transaction. I.e. we pass in a transactions and update the parties balances. Sam's current state is 5 tokens, he pays Alex 3 therefore his state in the next period becomes 2."
   ]
  },
  {
   "cell_type": "code",
   "execution_count": 30,
   "metadata": {},
   "outputs": [],
   "source": [
    "#pass a transaction and the current state then for each key in the transaction and then each key in the state update.\n",
    "def updateState(txn,state):\n",
    "    \n",
    "    state=state.copy()\n",
    "    for key in txn:\n",
    "        if key in state.keys():\n",
    "            state[key] += txn[key]\n",
    "        else: \n",
    "            state[key] = txn[key]\n",
    "        \n",
    "    return state"
   ]
  },
  {
   "cell_type": "code",
   "execution_count": 31,
   "metadata": {},
   "outputs": [],
   "source": [
    "def isValidTxn(txn,state):\n",
    "    # Assume that the transaction is a dictionary keyed by account names\n",
    "\n",
    "    # Check that the sum of the deposits and withdrawals is 0\n",
    "    if sum(txn.values()) is not 0:\n",
    "        return False\n",
    "    \n",
    "    # Check that the transaction does not cause an overdraft\n",
    "    #txn.keys() returns the parties involved in transaction\n",
    "    for key in txn.keys():\n",
    "        if key in state.keys(): \n",
    "            #pass current state balance into accountbalance variable\n",
    "            acctBalance = state[key]\n",
    "        #else set their account balance is 0 they don't have any tokens\n",
    "        else:\n",
    "            acctBalance = 0\n",
    "        #if their current balance + whatever they are paying takes them into the negative then return false as invalid\n",
    "        if (acctBalance + txn[key]) < 0:\n",
    "            return False\n",
    "    \n",
    "    return True"
   ]
  },
  {
   "cell_type": "markdown",
   "metadata": {},
   "source": [
    "After defining a isvalid function we can pass the current state and check the transaction"
   ]
  },
  {
   "cell_type": "code",
   "execution_count": 32,
   "metadata": {},
   "outputs": [
    {
     "name": "stdout",
     "output_type": "stream",
     "text": [
      "True\n",
      "False\n",
      "False\n",
      "True\n"
     ]
    }
   ],
   "source": [
    "#THERE MUST BE SOME CURRENT STATE SET. IN THIS EXAMPLE SAM AND ALEX HAVE 5 TOKENS.\n",
    "\n",
    "state={u'Sam':5,u'Alex':5}\n",
    "\n",
    "print(isValidTxn({u'Sam': -3,  u'Alex': 3},state))  # Basic transaction- this works and prints TRUE. Sam pays alex 3.\n",
    "print(isValidTxn({u'Sam': -6, u'Alex': 6},state))  # Basic transaction- this doesn't work Sam only has 5 tokens so can't pay 6\n",
    "print(isValidTxn({u'Sam': -4, u'Alex': 3},state))  # But we can't create or destroy tokens!\n",
    "print(isValidTxn({u'Sam': -4, u'Alex': 2,'Ben':2},state)) # Creating new users is valid\n",
    "\n",
    "\n"
   ]
  },
  {
   "cell_type": "markdown",
   "metadata": {},
   "source": [
    "## Make the blockchain\n",
    "\n",
    "Now we have a way over updating current state and checking transactions we can start building blocks of transactions.\n",
    "We must start with some state of our users therefore the first block in the chain is called the 'genesis' block.\n",
    "Below initiates the first block with 1 transaction.\n",
    "\n",
    "We store this in an array which is essentially our chain."
   ]
  },
  {
   "cell_type": "code",
   "execution_count": 33,
   "metadata": {},
   "outputs": [
    {
     "name": "stdout",
     "output_type": "stream",
     "text": [
      "[{'Alex': 50, 'Sam': 50}]\n",
      "{\"blockNumber\": 0, \"parentHash\": null, \"txnCount\": 1, \"txns\": [{\"Alex\": 50, \"Sam\": 50}]}\n"
     ]
    }
   ],
   "source": [
    "state = {u'Alex':50, u'Sam':50}  # Define the initial state Sam and Alex now have 50 tokens each.\n",
    "genesisBlockTxns = [state]\n",
    "print(genesisBlockTxns)\n",
    "genesisBlockContents = {u'blockNumber':0,u'parentHash':None,u'txnCount':1,u'txns':genesisBlockTxns}\n",
    "#Return hash of current block\n",
    "genesisHash = hashmsg( genesisBlockContents )\n",
    "#create block with contents and a hash. In reality this is the merkle root of all transactions in the block.\n",
    "genesisBlock = {u'hash':genesisHash,u'contents':genesisBlockContents}\n",
    "genesisBlockStr = json.dumps(genesisBlock, sort_keys=True)"
   ]
  },
  {
   "cell_type": "code",
   "execution_count": 34,
   "metadata": {},
   "outputs": [],
   "source": [
    "#This is now the original block and the chain becomes a python list.\n",
    "chain = [genesisBlock]"
   ]
  },
  {
   "cell_type": "code",
   "execution_count": 35,
   "metadata": {},
   "outputs": [],
   "source": [
    "def makeBlock(txns,chain):\n",
    "    #get the parent\n",
    "    parentBlock = chain[-1]\n",
    "    #declare the parent block hash\n",
    "    parentHash  = parentBlock[u'hash']\n",
    "    #get new block number i.e. previous block was block 5 therefore we are making 6.\n",
    "    blockNumber = parentBlock[u'contents'][u'blockNumber'] + 1\n",
    "    #how many transactions\n",
    "    txnCount    = len(txns)\n",
    "    #Create the block contents.\n",
    "    blockContents = {u'blockNumber':blockNumber,u'parentHash':parentHash,\n",
    "                     u'txnCount':len(txns),'txns':txns}\n",
    "    #Create the hash. In reality this is the merkle root of the hashes of transactions.\n",
    "    blockHash = hashmsg( blockContents )\n",
    "    #Finally construct the block object.\n",
    "    block = {u'hash':blockHash,u'contents':blockContents}\n",
    "    \n",
    "    return block"
   ]
  },
  {
   "cell_type": "markdown",
   "metadata": {},
   "source": [
    "we generated 30 transactions and we'll fix the number of transactions per block."
   ]
  },
  {
   "cell_type": "code",
   "execution_count": 36,
   "metadata": {},
   "outputs": [
    {
     "name": "stdout",
     "output_type": "stream",
     "text": [
      "{\"blockNumber\": 1, \"parentHash\": \"1b872ea2bf797407d01252a36f4056105e9e2a7e8c6a3a8e07e76bb09d498f24\", \"txnCount\": 5, \"txns\": [{\"Alex\": -2, \"Sam\": 2}, {\"Alex\": 1, \"Sam\": -1}, {\"Alex\": -1, \"Sam\": 1}, {\"Alex\": -2, \"Sam\": 2}, {\"Alex\": 3, \"Sam\": -3}]}\n",
      "{\"blockNumber\": 2, \"parentHash\": \"fdcc4a9915dcc23486a49c58c4a91ce9d12f84bbe6999d22b86fba9445e2a96c\", \"txnCount\": 5, \"txns\": [{\"Alex\": -1, \"Sam\": 1}, {\"Alex\": 2, \"Sam\": -2}, {\"Alex\": -2, \"Sam\": 2}, {\"Alex\": -3, \"Sam\": 3}, {\"Alex\": -3, \"Sam\": 3}]}\n",
      "{\"blockNumber\": 3, \"parentHash\": \"2c07e3fabbefb328e80a5575ade2208796713f198b5062dad3fe10f846e636e6\", \"txnCount\": 5, \"txns\": [{\"Alex\": 2, \"Sam\": -2}, {\"Alex\": -2, \"Sam\": 2}, {\"Alex\": -2, \"Sam\": 2}, {\"Alex\": -3, \"Sam\": 3}, {\"Alex\": -1, \"Sam\": 1}]}\n",
      "{\"blockNumber\": 4, \"parentHash\": \"d725f99103c7edce2406eb81267ecd47b47f13d94c03ff82a17a4b04554fb982\", \"txnCount\": 5, \"txns\": [{\"Alex\": -1, \"Sam\": 1}, {\"Alex\": -2, \"Sam\": 2}, {\"Alex\": -3, \"Sam\": 3}, {\"Alex\": -2, \"Sam\": 2}, {\"Alex\": -3, \"Sam\": 3}]}\n",
      "{\"blockNumber\": 5, \"parentHash\": \"2100dac57932027fd12286d3547ba863e7065e05f7b6e2ed1aa2bc8f3ec77559\", \"txnCount\": 5, \"txns\": [{\"Alex\": -3, \"Sam\": 3}, {\"Alex\": -1, \"Sam\": 1}, {\"Alex\": -1, \"Sam\": 1}, {\"Alex\": -1, \"Sam\": 1}, {\"Alex\": -1, \"Sam\": 1}]}\n",
      "{\"blockNumber\": 6, \"parentHash\": \"fa7801792b8c992f81c7f18aaa7c78912a921e1aff3e0acc175da510b41b5a32\", \"txnCount\": 5, \"txns\": [{\"Alex\": 1, \"Sam\": -1}, {\"Alex\": 2, \"Sam\": -2}, {\"Alex\": -3, \"Sam\": 3}, {\"Alex\": 3, \"Sam\": -3}, {\"Alex\": -1, \"Sam\": 1}]}\n"
     ]
    }
   ],
   "source": [
    "blockSizeLimit = 5  # Arbitrary number of transactions per block- \n",
    "               #  this is chosen by the block miner, and can vary between blocks!\n",
    "\n",
    "while len(tnxBuffer) > 0:\n",
    "    bufferStartSize = len(tnxBuffer)\n",
    "    \n",
    "    ## Gather a set of valid transactions for inclusion\n",
    "    txnList = []\n",
    "    #while the length of transactions is >0 and less than the block size\n",
    "    while (len(tnxBuffer) > 0) & (len(txnList) < blockSizeLimit):\n",
    "        #.pop() returns last element\n",
    "        newTxn = tnxBuffer.pop()\n",
    "        validTxn = isValidTxn(newTxn,state) # This will return False if txn is invalid\n",
    "        \n",
    "        if validTxn:           # If we got a valid state, not 'False' then add the transaction to the list\n",
    "            txnList.append(newTxn)\n",
    "            state = updateState(newTxn,state) #get the current state.\n",
    "        else:\n",
    "            print(\"ignored transaction\")\n",
    "            sys.stdout.flush()\n",
    "            continue  # This was an invalid transaction; ignore it and move on\n",
    "        \n",
    "    ## Make a block\n",
    "    myBlock = makeBlock(txnList,chain)\n",
    "    #append it to list\n",
    "    chain.append(myBlock)"
   ]
  },
  {
   "cell_type": "markdown",
   "metadata": {},
   "source": [
    "WOO now we have a chain of blocks! Usually the names of transaction parties will be hash there may be other meta information in here that the miners have added."
   ]
  },
  {
   "cell_type": "code",
   "execution_count": 63,
   "metadata": {},
   "outputs": [
    {
     "data": {
      "text/plain": [
       "{'contents': {'blockNumber': 2,\n",
       "  'parentHash': '00be878dae4c9f475462a72a13b791a4fec373acc11dedb54c5c4fe9b186ad44',\n",
       "  'txnCount': 5,\n",
       "  'txns': [{'Alex': -2, 'Sam': 2},\n",
       "   {'Alex': 2, 'Sam': -2},\n",
       "   {'Alex': -1, 'Sam': 1},\n",
       "   {'Alex': -2, 'Sam': 2},\n",
       "   {'Alex': 1, 'Sam': -1}]},\n",
       " 'hash': '920016495ccbd5a6bfd73cff88c2ed8b2a809189e699f3cd44f15f86386ab0ad'}"
      ]
     },
     "execution_count": 63,
     "metadata": {},
     "output_type": "execute_result"
    }
   ],
   "source": [
    "chain[2]"
   ]
  },
  {
   "cell_type": "markdown",
   "metadata": {},
   "source": [
    "We can also check the state after blocking those 30 transactions. Alex has 20 tokens and Sam has 80. They both started with 50 each in the genesis block."
   ]
  },
  {
   "cell_type": "code",
   "execution_count": 37,
   "metadata": {},
   "outputs": [
    {
     "data": {
      "text/plain": [
       "{'Alex': 20, 'Sam': 80}"
      ]
     },
     "execution_count": 37,
     "metadata": {},
     "output_type": "execute_result"
    }
   ],
   "source": [
    "state"
   ]
  },
  {
   "cell_type": "markdown",
   "metadata": {},
   "source": [
    "## Checking Chain Validity\n",
    "\n",
    "Now we've defined and chained blocks together we need to check the chain is valid. Obviously the block chain is hosted on a number of nodes and if they don't all match then some version must be invalid. Someone could of tampered to try and fake their current state. Once our node is synced with the network (has an up-to-date copy of the blockchain and a representation of system state) it will need to check the validity of new blocks that are broadcast to the network.\n",
    "\n",
    "We'll need three functons\n",
    "\n",
    "1. Check the hash of each block is right, so take the transactions and see if the hash matches what's in there.\n",
    "2. Check validity of a block given it's parent and current.\n",
    "3.  Check the validity of the entire chain, and compute the system state beginning at the genesis block. This will return the system state if the chain is valid, and raise an error otherwise. i.e. the genesis state was 50, 50 and after transactions should be 20,80. If it's not something is wrong.\n"
   ]
  },
  {
   "cell_type": "code",
   "execution_count": 38,
   "metadata": {},
   "outputs": [],
   "source": [
    "#Pretty self explanatory this one\n",
    "def checkBlockHash(block):\n",
    "    # Raise an exception if the hash does not match the block contents\n",
    "    expectedHash = hashmsg( block['contents'] )\n",
    "    if block['hash']!=expectedHash:\n",
    "        raise Exception('Hash does not match contents of block %s'%\n",
    "                        block['contents']['blockNumber'])\n",
    "    return"
   ]
  },
  {
   "cell_type": "code",
   "execution_count": 39,
   "metadata": {},
   "outputs": [],
   "source": [
    "def checkBlockValidity(block,parent,state):    \n",
    "    # We want to check the following conditions:\n",
    "    # - Each of the transactions are valid updates to the system state\n",
    "    # - Block hash is valid for the block contents\n",
    "    # - Block number increments the parent block number by 1\n",
    "    # - Accurately references the parent block's hash\n",
    "    parentNumber = parent['contents']['blockNumber']\n",
    "    parentHash   = parent['hash']\n",
    "    blockNumber  = block['contents']['blockNumber']\n",
    "    \n",
    "    # Check transaction validity; throw an error if an invalid transaction was found.\n",
    "    for txn in block['contents']['txns']:\n",
    "        if isValidTxn(txn,state):\n",
    "            state = updateState(txn,state)\n",
    "        else:\n",
    "            raise Exception('Invalid transaction in block %s: %s'%(blockNumber,txn))\n",
    "\n",
    "    checkBlockHash(block) # Check hash integrity; raises error if inaccurate\n",
    "\n",
    "    if blockNumber!=(parentNumber+1):\n",
    "        raise Exception('Hash does not match contents of block %s'%blockNumber)\n",
    "\n",
    "    if block['contents']['parentHash'] != parentHash:\n",
    "        raise Exception('Parent hash not accurate at block %s'%blockNumber)\n",
    "    \n",
    "    return state"
   ]
  },
  {
   "cell_type": "code",
   "execution_count": 40,
   "metadata": {},
   "outputs": [],
   "source": [
    "def checkChain(chain):\n",
    "    # Work through the chain from the genesis block (which gets special treatment), \n",
    "    #  checking that all transactions are internally valid,\n",
    "    #    that the transactions do not cause an overdraft,\n",
    "    #    and that the blocks are linked by their hashes.\n",
    "    # This returns the state as a dictionary of accounts and balances,\n",
    "    #   or returns False if an error was detected\n",
    "\n",
    "    \n",
    "    ## Data input processing: Make sure that our chain is a list of dicts\n",
    "    if type(chain)==str:\n",
    "        try:\n",
    "            chain = json.loads(chain)\n",
    "            assert( type(chain)==list)\n",
    "        except:  # This is a catch-all, admittedly crude\n",
    "            return False\n",
    "    elif type(chain)!=list:\n",
    "        return False\n",
    "    \n",
    "    state = {}\n",
    "    ## Prime the pump by checking the genesis block\n",
    "    # We want to check the following conditions:\n",
    "    # - Each of the transactions are valid updates to the system state\n",
    "    # - Block hash is valid for the block contents\n",
    "\n",
    "    for txn in chain[0]['contents']['txns']:\n",
    "        state = updateState(txn,state)\n",
    "    checkBlockHash(chain[0])\n",
    "    parent = chain[0]\n",
    "    \n",
    "    ## Checking subsequent blocks: These additionally need to check\n",
    "    #    - the reference to the parent block's hash\n",
    "    #    - the validity of the block number\n",
    "    for block in chain[1:]:\n",
    "        state = checkBlockValidity(block,parent,state)\n",
    "        parent = block\n",
    "        \n",
    "    return state"
   ]
  },
  {
   "cell_type": "code",
   "execution_count": 41,
   "metadata": {},
   "outputs": [
    {
     "name": "stdout",
     "output_type": "stream",
     "text": [
      "{\"blockNumber\": 0, \"parentHash\": null, \"txnCount\": 1, \"txns\": [{\"Alex\": 50, \"Sam\": 50}]}\n",
      "{\"blockNumber\": 1, \"parentHash\": \"1b872ea2bf797407d01252a36f4056105e9e2a7e8c6a3a8e07e76bb09d498f24\", \"txnCount\": 5, \"txns\": [{\"Alex\": -2, \"Sam\": 2}, {\"Alex\": 1, \"Sam\": -1}, {\"Alex\": -1, \"Sam\": 1}, {\"Alex\": -2, \"Sam\": 2}, {\"Alex\": 3, \"Sam\": -3}]}\n",
      "{\"blockNumber\": 2, \"parentHash\": \"fdcc4a9915dcc23486a49c58c4a91ce9d12f84bbe6999d22b86fba9445e2a96c\", \"txnCount\": 5, \"txns\": [{\"Alex\": -1, \"Sam\": 1}, {\"Alex\": 2, \"Sam\": -2}, {\"Alex\": -2, \"Sam\": 2}, {\"Alex\": -3, \"Sam\": 3}, {\"Alex\": -3, \"Sam\": 3}]}\n",
      "{\"blockNumber\": 3, \"parentHash\": \"2c07e3fabbefb328e80a5575ade2208796713f198b5062dad3fe10f846e636e6\", \"txnCount\": 5, \"txns\": [{\"Alex\": 2, \"Sam\": -2}, {\"Alex\": -2, \"Sam\": 2}, {\"Alex\": -2, \"Sam\": 2}, {\"Alex\": -3, \"Sam\": 3}, {\"Alex\": -1, \"Sam\": 1}]}\n",
      "{\"blockNumber\": 4, \"parentHash\": \"d725f99103c7edce2406eb81267ecd47b47f13d94c03ff82a17a4b04554fb982\", \"txnCount\": 5, \"txns\": [{\"Alex\": -1, \"Sam\": 1}, {\"Alex\": -2, \"Sam\": 2}, {\"Alex\": -3, \"Sam\": 3}, {\"Alex\": -2, \"Sam\": 2}, {\"Alex\": -3, \"Sam\": 3}]}\n",
      "{\"blockNumber\": 5, \"parentHash\": \"2100dac57932027fd12286d3547ba863e7065e05f7b6e2ed1aa2bc8f3ec77559\", \"txnCount\": 5, \"txns\": [{\"Alex\": -3, \"Sam\": 3}, {\"Alex\": -1, \"Sam\": 1}, {\"Alex\": -1, \"Sam\": 1}, {\"Alex\": -1, \"Sam\": 1}, {\"Alex\": -1, \"Sam\": 1}]}\n",
      "{\"blockNumber\": 6, \"parentHash\": \"fa7801792b8c992f81c7f18aaa7c78912a921e1aff3e0acc175da510b41b5a32\", \"txnCount\": 5, \"txns\": [{\"Alex\": 1, \"Sam\": -1}, {\"Alex\": 2, \"Sam\": -2}, {\"Alex\": -3, \"Sam\": 3}, {\"Alex\": 3, \"Sam\": -3}, {\"Alex\": -1, \"Sam\": 1}]}\n"
     ]
    },
    {
     "data": {
      "text/plain": [
       "{'Alex': 20, 'Sam': 80}"
      ]
     },
     "execution_count": 41,
     "metadata": {},
     "output_type": "execute_result"
    }
   ],
   "source": [
    "checkChain(chain)"
   ]
  },
  {
   "cell_type": "markdown",
   "metadata": {},
   "source": [
    "We've checked the chain and the correct state after all 30 transactions is correct.\n",
    "\n",
    "# Putting it together, final architecture\n",
    "\n",
    "In an actual block chain network new nodes download a copy of the latest full block chain and verify it as we did above. They announce their present on the network and start listening for transactions. Once they've bundled transactions together they pass the block onto other nodes.\n",
    "\n",
    "Below we act as if we are a new node. We take a copy of the latest chain we got and then generate 5 more transactions. We then run our functions to make the next block."
   ]
  },
  {
   "cell_type": "code",
   "execution_count": 42,
   "metadata": {},
   "outputs": [
    {
     "name": "stdout",
     "output_type": "stream",
     "text": [
      "{\"blockNumber\": 7, \"parentHash\": \"68b0e32d1b6b991c4f91f64440cb6b165f70c2063847ab72adcb415ade126d3b\", \"txnCount\": 5, \"txns\": [{\"Alex\": 3, \"Sam\": -3}, {\"Alex\": 2, \"Sam\": -2}, {\"Alex\": -1, \"Sam\": 1}, {\"Alex\": 2, \"Sam\": -2}, {\"Alex\": -1, \"Sam\": 1}]}\n"
     ]
    }
   ],
   "source": [
    "import copy\n",
    "nodeBchain = copy.copy(chain)\n",
    "nodeBtxns  = [makeTransaction() for i in range(5)]\n",
    "newBlock   = makeBlock(nodeBtxns,nodeBchain)"
   ]
  },
  {
   "cell_type": "code",
   "execution_count": 43,
   "metadata": {},
   "outputs": [
    {
     "name": "stdout",
     "output_type": "stream",
     "text": [
      "Blockchain on Node A is currently 7 blocks long\n",
      "New Block Received; checking validity...\n",
      "{\"blockNumber\": 7, \"parentHash\": \"68b0e32d1b6b991c4f91f64440cb6b165f70c2063847ab72adcb415ade126d3b\", \"txnCount\": 5, \"txns\": [{\"Alex\": 3, \"Sam\": -3}, {\"Alex\": 2, \"Sam\": -2}, {\"Alex\": -1, \"Sam\": 1}, {\"Alex\": 2, \"Sam\": -2}, {\"Alex\": -1, \"Sam\": 1}]}\n",
      "Blockchain on Node A is now 8 blocks long\n"
     ]
    }
   ],
   "source": [
    "print(\"Blockchain on Node A is currently %s blocks long\"%len(chain))\n",
    "\n",
    "try:\n",
    "    print(\"New Block Received; checking validity...\")\n",
    "    state = checkBlockValidity(newBlock,chain[-1],state) # Update the state- this will throw an error if the block is invalid!\n",
    "    chain.append(newBlock)\n",
    "except:\n",
    "    print(\"Invalid block; ignoring and waiting for the next block...\")\n",
    "\n",
    "print(\"Blockchain on Node A is now %s blocks long\"%len(chain))"
   ]
  },
  {
   "cell_type": "markdown",
   "metadata": {},
   "source": [
    "We have covered some basic architecture for how a blockchain might work. We now have functions to make transactions, blocks and check validity of the block and the chain.\n",
    "\n",
    "We can also derive the current state from the chain. This is important to know how everyone stands.\n",
    "\n",
    "Here's stuff we haven't covered...\n",
    "\n",
    "* why miners exist\n",
    "* the nonce\n",
    "* merkle roots\n",
    "* hashcash\n",
    "* public key cryptography\n",
    "* block consensus"
   ]
  },
  {
   "cell_type": "markdown",
   "metadata": {},
   "source": [
    "# References\n",
    "\n",
    "https://github.com/emunsing/tutorials/blob/master/BuildYourOwnBlockchain.ipynb\n",
    "https://blockexplorer.com/\n",
    "https://github.com/bitcoin/bitcoin\n",
    "\n",
    "https://www.youtube.com/watch?v=gUwXCt1qkBU - GREAT VIDEO ON MERKLE ROOTS"
   ]
  }
 ],
 "metadata": {
  "kernelspec": {
   "display_name": "Python 3",
   "language": "python",
   "name": "python3"
  },
  "language_info": {
   "codemirror_mode": {
    "name": "ipython",
    "version": 3
   },
   "file_extension": ".py",
   "mimetype": "text/x-python",
   "name": "python",
   "nbconvert_exporter": "python",
   "pygments_lexer": "ipython3",
   "version": "3.6.3"
  }
 },
 "nbformat": 4,
 "nbformat_minor": 2
}
