{
 "cells": [
  {
   "cell_type": "markdown",
   "metadata": {},
   "source": [
    "# IP addresses explained\n",
    "\n",
    "This has come up a few times now where we are either investigating suspicious traffic or I'm messing around with networking tools on my home network. Some questions I should have answered in my head a long time ago...\n",
    "\n",
    "* Why do we need IPs?\n",
    "* Embarrassing question but what really is a subnet mask?\n",
    "* How are IPs assigned?\n",
    "\n",
    "I feel this is something a computer science degree would of taught me but in Economics we didn't touch on this too much as you'd hope.\n",
    "\n",
    "## What are they and why do we need them?\n",
    "\n",
    "IP addresses are unique identifiers for devices connected to a network. They allow the devices to accurately communicate with each other on the network. IPs are often described as your contact address. If you have to send a letter to me you'd send it to Mr S Hall @ somewhere where I live.\n",
    "\n",
    "sidenote: MAC addresses are more like your human identifier!\n",
    "\n",
    "\n",
    "## IPv4\n",
    "\n",
    "Currently the world is in the process of moving to the v6 protocol. To understand how this is different from v4 we need to learn about octets.\n",
    "\n",
    "IPv4 which has been around since 1983 was the first implementation An original IP address is split into 4 octets or also known as bytes (bytes are traditionally used for storage terminology hence octets are used).\n",
    "\n",
    "This means each decimal number seperated with a dot can have the value 0 to 255. 255 in binary is 11111111.\n",
    "Therefore some simple maths the number of unqiue combinations of addresses is \n",
    "\n",
    "256*256*256*256 = 256^4 ~ 4.3 billion. In reality alot of IPs have been reserved for special usage this is estimated around 600 million so you'll see why this causes some scaling issues in a bit.\n",
    "\n",
    "## IP components\n",
    "\n",
    "Let's take a default local IP address 192.168.1.24 and break it down into components. This is different from a global or public IP.\n",
    "\n",
    "The first three octets in this case are the network portion, this is unqiue to the network.\n",
    "The last octet is the host portion, these are the addresses that are unique to the devices on the sub network.\n",
    "\n",
    "How do we know what is the host portion and which is the network portion, as differnet networks can have different size host portions. In comes the subnet mask!\n",
    "\n",
    "Most home networks have a subnet mask of 255.255.255.0. The octets that are 255 are the network portion and the last octet which is 0 is the host portion.\n",
    "\n",
    "What this means is that if the computers on the network have the same subnet mask then they can directly communicate with others on the host network without going via the default gateway. A fancy term for your router.\n",
    "\n",
    "\n",
    "## CIDR notations\n",
    "\n",
    "Often instad of writing out the subnet mask each time we often use a CIDR (classless interdomain routing) and just the network ID to correspond to a block.\n",
    "\n",
    "/x refers to the numberof bits in the subnet mask so /24 would correspond to the first 3 octets or 24 bits. Aka this is equivilent to 255.255.255.0.\n",
    "\n",
    "So x after the slash corresponds to how many bits in the mask.\n",
    "\n",
    "A worked example if an ip address is 192.168.40.55 and the mask is 255.255.248.0, what is the network ID?\n",
    "\n",
    "* The mask tells us the subnet uses the first 16 bits then some of the third octet.\n",
    "* We need to breakout the third octet. Using the numbering system 128 64 32 16 8 4 2 1 we can work out 40 is 32 and 8 so the 3rd and 5th bit are turned on for host addresses.\n",
    "* Put that up against the binary form of the mask.\n",
    "\n",
    "|00101000|\n",
    "|--------|\n",
    "|11111000|\n",
    "\n",
    "* The first 5 bits are network id bits.\n",
    "* So the network id can be represented as 192.168.40.0/21.\n",
    "\n",
    "\n",
    "## IPv6\n",
    "\n",
    "\n",
    "The number of devices connected to the internet is growing so eventually version 4 of the protocol will be scaled out.\n",
    "\n",
    "This time an address is a 128 bit value often represented as 4 hexadeicmal digits each representing 16 bits. These are seperated by a colon, an example...\n",
    "\n",
    "2001:0db8:85a3:0000:0000:8a2e:0370:7334\n",
    "\n",
    "\n",
    "More to follow...\n",
    "\n",
    "\n",
    "\n",
    "## A script to work out number of host addresses in a CIDR represented IP\n"
   ]
  },
  {
   "cell_type": "code",
   "execution_count": 1,
   "metadata": {},
   "outputs": [],
   "source": [
    "def _dec_to_binary(ip_address):\n",
    "    return map(lambda x: bin(x)[2:].zfill(8), ip_address)"
   ]
  },
  {
   "cell_type": "code",
   "execution_count": 3,
   "metadata": {},
   "outputs": [
    {
     "name": "stdout",
     "output_type": "stream",
     "text": [
      "<map object at 0x7f83b06d8438>\n"
     ]
    }
   ],
   "source": [
    "print(_dec_to_binary(\"192.168.1.0\"))"
   ]
  },
  {
   "cell_type": "code",
   "execution_count": null,
   "metadata": {},
   "outputs": [],
   "source": []
  }
 ],
 "metadata": {
  "kernelspec": {
   "display_name": "Python 3",
   "language": "python",
   "name": "python3"
  },
  "language_info": {
   "codemirror_mode": {
    "name": "ipython",
    "version": 3
   },
   "file_extension": ".py",
   "mimetype": "text/x-python",
   "name": "python",
   "nbconvert_exporter": "python",
   "pygments_lexer": "ipython3",
   "version": "3.5.2"
  }
 },
 "nbformat": 4,
 "nbformat_minor": 2
}
